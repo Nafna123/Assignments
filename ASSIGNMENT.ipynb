{
 "cells": [
  {
   "cell_type": "markdown",
   "id": "a75c1318-887b-4287-a122-b800a0fba6ae",
   "metadata": {},
   "source": [
    "## 15. Z-test Calculation: "
   ]
  },
  {
   "cell_type": "markdown",
   "id": "07a6e715-65a0-49f9-a25f-583f9d6ea0ce",
   "metadata": {},
   "source": [
    "#### Given a sample mean of 25, population mean of 22, population standard deviation of 3, and sample size of 40, compute the Z-test statistic and interpret the results."
   ]
  },
  {
   "cell_type": "code",
   "execution_count": 3,
   "id": "04af66d5-9149-4dc5-b2e8-1499adcf8f57",
   "metadata": {},
   "outputs": [
    {
     "name": "stdout",
     "output_type": "stream",
     "text": [
      "Z_TEST_VALUE = 6.324555320336759\n"
     ]
    }
   ],
   "source": [
    "sample_mean = 25\n",
    "population_mean = 22\n",
    "population_sd = 3\n",
    "sample_size = 40\n",
    "import math\n",
    "Z_TEST_VALUE = (sample_mean - population_mean)/(population_sd/math.sqrt(sample_size))\n",
    "print (\"Z_TEST_VALUE =\", Z_TEST_VALUE)"
   ]
  },
  {
   "cell_type": "markdown",
   "id": "81e801dc-837c-4882-9c5f-7ba7a1e78301",
   "metadata": {},
   "source": [
    "## 16. P-value Computation for Z-test:"
   ]
  },
  {
   "cell_type": "markdown",
   "id": "b24f3ae3-53ee-4b40-b15f-4419e48ef1f2",
   "metadata": {},
   "source": [
    "#### Using a standard normal table, find the p-value corresponding to the Z-test statistic  computed in the previous question and determine whether to reject the null  hypothesis at α = 0.05."
   ]
  },
  {
   "cell_type": "markdown",
   "id": "e6c465c5-765c-44c0-9ae7-84a31c56fc2d",
   "metadata": {},
   "source": [
    "# p value is<0.00001\n",
    "Since the p-value for z_test value<0.00001, result is significant at p<0.05.\n",
    "Thus, We failed to reject null hypothesis\n"
   ]
  },
  {
   "cell_type": "code",
   "execution_count": null,
   "id": "88818f3a-8178-4356-8c84-012cd40e70f1",
   "metadata": {},
   "outputs": [],
   "source": []
  }
 ],
 "metadata": {
  "kernelspec": {
   "display_name": "Python 3 (ipykernel)",
   "language": "python",
   "name": "python3"
  },
  "language_info": {
   "codemirror_mode": {
    "name": "ipython",
    "version": 3
   },
   "file_extension": ".py",
   "mimetype": "text/x-python",
   "name": "python",
   "nbconvert_exporter": "python",
   "pygments_lexer": "ipython3",
   "version": "3.13.2"
  }
 },
 "nbformat": 4,
 "nbformat_minor": 5
}
